{
 "cells": [
  {
   "cell_type": "code",
   "execution_count": null,
   "metadata": {},
   "outputs": [],
   "source": [
    "#Numpy - Numerical Python\n",
    "\n",
    "#Array\n",
    "#1d array - called as vector - List\n",
    "#2d array - called as matrix - list of lists"
   ]
  },
  {
   "cell_type": "code",
   "execution_count": 1,
   "metadata": {},
   "outputs": [],
   "source": [
    "import numpy as np"
   ]
  },
  {
   "cell_type": "code",
   "execution_count": 2,
   "metadata": {},
   "outputs": [],
   "source": [
    "sample_list = [100,101,102,103]"
   ]
  },
  {
   "cell_type": "code",
   "execution_count": 3,
   "metadata": {},
   "outputs": [
    {
     "name": "stdout",
     "output_type": "stream",
     "text": [
      "[100, 101, 102, 103]\n"
     ]
    }
   ],
   "source": [
    "print(sample_list)"
   ]
  },
  {
   "cell_type": "code",
   "execution_count": 4,
   "metadata": {},
   "outputs": [
    {
     "data": {
      "text/plain": [
       "list"
      ]
     },
     "execution_count": 4,
     "metadata": {},
     "output_type": "execute_result"
    }
   ],
   "source": [
    "type(sample_list)"
   ]
  },
  {
   "cell_type": "code",
   "execution_count": 11,
   "metadata": {},
   "outputs": [],
   "source": [
    "#1d array\n",
    "sample_array = np.array(sample_list)"
   ]
  },
  {
   "cell_type": "code",
   "execution_count": 12,
   "metadata": {},
   "outputs": [
    {
     "name": "stdout",
     "output_type": "stream",
     "text": [
      "[100 101 102 103]\n"
     ]
    }
   ],
   "source": [
    "print(sample_array)"
   ]
  },
  {
   "cell_type": "code",
   "execution_count": 9,
   "metadata": {},
   "outputs": [
    {
     "data": {
      "text/plain": [
       "numpy.ndarray"
      ]
     },
     "execution_count": 9,
     "metadata": {},
     "output_type": "execute_result"
    }
   ],
   "source": [
    "type(sample_array)"
   ]
  },
  {
   "cell_type": "code",
   "execution_count": 10,
   "metadata": {},
   "outputs": [
    {
     "data": {
      "text/plain": [
       "4"
      ]
     },
     "execution_count": 10,
     "metadata": {},
     "output_type": "execute_result"
    }
   ],
   "source": [
    "sample_array.size"
   ]
  },
  {
   "cell_type": "code",
   "execution_count": 13,
   "metadata": {},
   "outputs": [],
   "source": [
    "customer_info_list_of_lists = [[\"515154521564\", \"John\", 45, 15000,\"Married\"],[\"456145654\",\"David\",34,8000,\"Married\"],[\"2121211\",\"Annie\",32,5465,\"Unmarried\"]]#2D"
   ]
  },
  {
   "cell_type": "code",
   "execution_count": 14,
   "metadata": {},
   "outputs": [
    {
     "data": {
      "text/plain": [
       "[['515154521564', 'John', 45, 15000, 'Married'],\n",
       " ['456145654', 'David', 34, 8000, 'Married'],\n",
       " ['2121211', 'Annie', 32, 5465, 'Unmarried']]"
      ]
     },
     "execution_count": 14,
     "metadata": {},
     "output_type": "execute_result"
    }
   ],
   "source": [
    "customer_info_list_of_lists"
   ]
  },
  {
   "cell_type": "code",
   "execution_count": 15,
   "metadata": {},
   "outputs": [
    {
     "data": {
      "text/plain": [
       "array([['515154521564', 'John', '45', '15000', 'Married'],\n",
       "       ['456145654', 'David', '34', '8000', 'Married'],\n",
       "       ['2121211', 'Annie', '32', '5465', 'Unmarried']], dtype='<U12')"
      ]
     },
     "execution_count": 15,
     "metadata": {},
     "output_type": "execute_result"
    }
   ],
   "source": [
    "#2d array\n",
    "np.array(customer_info_list_of_lists)"
   ]
  },
  {
   "cell_type": "code",
   "execution_count": 16,
   "metadata": {},
   "outputs": [
    {
     "data": {
      "text/plain": [
       "array([[[ 10,  20,  30,  40],\n",
       "        [ 50,  60,  70,  80],\n",
       "        [ 90, 100, 110, 120],\n",
       "        [130, 140, 160, 200]],\n",
       "\n",
       "       [[ 45,  20,  30,  40],\n",
       "        [ 50,  75,  70,  80],\n",
       "        [ 90, 150, 110, 120],\n",
       "        [130, 140, 160, 200]]])"
      ]
     },
     "execution_count": 16,
     "metadata": {},
     "output_type": "execute_result"
    }
   ],
   "source": [
    "#3d array\n",
    "list_of_list_of_lists = [[[10,20,30,40],[50,60,70,80],[90,100,110,120],[130,140,160,200]],[[45,20,30,40],[50,75,70,80],[90,150,110,120],[130,140,160,200]]]\n",
    "np.array(list_of_list_of_lists)"
   ]
  },
  {
   "cell_type": "code",
   "execution_count": 17,
   "metadata": {},
   "outputs": [],
   "source": [
    "import pandas as pd\n",
    "car_df = pd.read_csv(\"car-mpg.csv\")"
   ]
  },
  {
   "cell_type": "code",
   "execution_count": 18,
   "metadata": {},
   "outputs": [
    {
     "data": {
      "text/plain": [
       "array([[18.0, 8, 307.0, ..., 1, 0, 'chevrolet chevelle malibu'],\n",
       "       [15.0, 8, 350.0, ..., 1, 0, 'buick skylark 320'],\n",
       "       [18.0, 8, 318.0, ..., 1, 0, 'plymouth satellite'],\n",
       "       ...,\n",
       "       [32.0, 4, 135.0, ..., 1, 1, 'dodge rampage'],\n",
       "       [28.0, 4, 120.0, ..., 1, 1, 'ford ranger'],\n",
       "       [31.0, 4, 119.0, ..., 1, 1, 'chevy s-10']], dtype=object)"
      ]
     },
     "execution_count": 18,
     "metadata": {},
     "output_type": "execute_result"
    }
   ],
   "source": [
    "np.array(car_df)"
   ]
  },
  {
   "cell_type": "code",
   "execution_count": 19,
   "metadata": {},
   "outputs": [
    {
     "data": {
      "text/html": [
       "<div>\n",
       "<style scoped>\n",
       "    .dataframe tbody tr th:only-of-type {\n",
       "        vertical-align: middle;\n",
       "    }\n",
       "\n",
       "    .dataframe tbody tr th {\n",
       "        vertical-align: top;\n",
       "    }\n",
       "\n",
       "    .dataframe thead th {\n",
       "        text-align: right;\n",
       "    }\n",
       "</style>\n",
       "<table border=\"1\" class=\"dataframe\">\n",
       "  <thead>\n",
       "    <tr style=\"text-align: right;\">\n",
       "      <th></th>\n",
       "      <th>mpg</th>\n",
       "      <th>cyl</th>\n",
       "      <th>disp</th>\n",
       "      <th>hp</th>\n",
       "      <th>wt</th>\n",
       "      <th>acc</th>\n",
       "      <th>yr</th>\n",
       "      <th>origin</th>\n",
       "      <th>car_type</th>\n",
       "      <th>car_name</th>\n",
       "    </tr>\n",
       "  </thead>\n",
       "  <tbody>\n",
       "    <tr>\n",
       "      <th>0</th>\n",
       "      <td>18.0</td>\n",
       "      <td>8</td>\n",
       "      <td>307.0</td>\n",
       "      <td>130</td>\n",
       "      <td>3504</td>\n",
       "      <td>12.0</td>\n",
       "      <td>70</td>\n",
       "      <td>1</td>\n",
       "      <td>0</td>\n",
       "      <td>chevrolet chevelle malibu</td>\n",
       "    </tr>\n",
       "    <tr>\n",
       "      <th>1</th>\n",
       "      <td>15.0</td>\n",
       "      <td>8</td>\n",
       "      <td>350.0</td>\n",
       "      <td>165</td>\n",
       "      <td>3693</td>\n",
       "      <td>11.5</td>\n",
       "      <td>70</td>\n",
       "      <td>1</td>\n",
       "      <td>0</td>\n",
       "      <td>buick skylark 320</td>\n",
       "    </tr>\n",
       "    <tr>\n",
       "      <th>2</th>\n",
       "      <td>18.0</td>\n",
       "      <td>8</td>\n",
       "      <td>318.0</td>\n",
       "      <td>150</td>\n",
       "      <td>3436</td>\n",
       "      <td>11.0</td>\n",
       "      <td>70</td>\n",
       "      <td>1</td>\n",
       "      <td>0</td>\n",
       "      <td>plymouth satellite</td>\n",
       "    </tr>\n",
       "    <tr>\n",
       "      <th>3</th>\n",
       "      <td>16.0</td>\n",
       "      <td>8</td>\n",
       "      <td>304.0</td>\n",
       "      <td>150</td>\n",
       "      <td>3433</td>\n",
       "      <td>12.0</td>\n",
       "      <td>70</td>\n",
       "      <td>1</td>\n",
       "      <td>0</td>\n",
       "      <td>amc rebel sst</td>\n",
       "    </tr>\n",
       "    <tr>\n",
       "      <th>4</th>\n",
       "      <td>17.0</td>\n",
       "      <td>8</td>\n",
       "      <td>302.0</td>\n",
       "      <td>140</td>\n",
       "      <td>3449</td>\n",
       "      <td>10.5</td>\n",
       "      <td>70</td>\n",
       "      <td>1</td>\n",
       "      <td>0</td>\n",
       "      <td>ford torino</td>\n",
       "    </tr>\n",
       "    <tr>\n",
       "      <th>...</th>\n",
       "      <td>...</td>\n",
       "      <td>...</td>\n",
       "      <td>...</td>\n",
       "      <td>...</td>\n",
       "      <td>...</td>\n",
       "      <td>...</td>\n",
       "      <td>...</td>\n",
       "      <td>...</td>\n",
       "      <td>...</td>\n",
       "      <td>...</td>\n",
       "    </tr>\n",
       "    <tr>\n",
       "      <th>393</th>\n",
       "      <td>27.0</td>\n",
       "      <td>4</td>\n",
       "      <td>140.0</td>\n",
       "      <td>86</td>\n",
       "      <td>2790</td>\n",
       "      <td>15.6</td>\n",
       "      <td>82</td>\n",
       "      <td>1</td>\n",
       "      <td>1</td>\n",
       "      <td>ford mustang gl</td>\n",
       "    </tr>\n",
       "    <tr>\n",
       "      <th>394</th>\n",
       "      <td>44.0</td>\n",
       "      <td>4</td>\n",
       "      <td>97.0</td>\n",
       "      <td>52</td>\n",
       "      <td>2130</td>\n",
       "      <td>24.6</td>\n",
       "      <td>82</td>\n",
       "      <td>2</td>\n",
       "      <td>1</td>\n",
       "      <td>vw pickup</td>\n",
       "    </tr>\n",
       "    <tr>\n",
       "      <th>395</th>\n",
       "      <td>32.0</td>\n",
       "      <td>4</td>\n",
       "      <td>135.0</td>\n",
       "      <td>84</td>\n",
       "      <td>2295</td>\n",
       "      <td>11.6</td>\n",
       "      <td>82</td>\n",
       "      <td>1</td>\n",
       "      <td>1</td>\n",
       "      <td>dodge rampage</td>\n",
       "    </tr>\n",
       "    <tr>\n",
       "      <th>396</th>\n",
       "      <td>28.0</td>\n",
       "      <td>4</td>\n",
       "      <td>120.0</td>\n",
       "      <td>79</td>\n",
       "      <td>2625</td>\n",
       "      <td>18.6</td>\n",
       "      <td>82</td>\n",
       "      <td>1</td>\n",
       "      <td>1</td>\n",
       "      <td>ford ranger</td>\n",
       "    </tr>\n",
       "    <tr>\n",
       "      <th>397</th>\n",
       "      <td>31.0</td>\n",
       "      <td>4</td>\n",
       "      <td>119.0</td>\n",
       "      <td>82</td>\n",
       "      <td>2720</td>\n",
       "      <td>19.4</td>\n",
       "      <td>82</td>\n",
       "      <td>1</td>\n",
       "      <td>1</td>\n",
       "      <td>chevy s-10</td>\n",
       "    </tr>\n",
       "  </tbody>\n",
       "</table>\n",
       "<p>398 rows × 10 columns</p>\n",
       "</div>"
      ],
      "text/plain": [
       "      mpg  cyl   disp   hp    wt   acc  yr  origin  car_type  \\\n",
       "0    18.0    8  307.0  130  3504  12.0  70       1         0   \n",
       "1    15.0    8  350.0  165  3693  11.5  70       1         0   \n",
       "2    18.0    8  318.0  150  3436  11.0  70       1         0   \n",
       "3    16.0    8  304.0  150  3433  12.0  70       1         0   \n",
       "4    17.0    8  302.0  140  3449  10.5  70       1         0   \n",
       "..    ...  ...    ...  ...   ...   ...  ..     ...       ...   \n",
       "393  27.0    4  140.0   86  2790  15.6  82       1         1   \n",
       "394  44.0    4   97.0   52  2130  24.6  82       2         1   \n",
       "395  32.0    4  135.0   84  2295  11.6  82       1         1   \n",
       "396  28.0    4  120.0   79  2625  18.6  82       1         1   \n",
       "397  31.0    4  119.0   82  2720  19.4  82       1         1   \n",
       "\n",
       "                      car_name  \n",
       "0    chevrolet chevelle malibu  \n",
       "1            buick skylark 320  \n",
       "2           plymouth satellite  \n",
       "3                amc rebel sst  \n",
       "4                  ford torino  \n",
       "..                         ...  \n",
       "393            ford mustang gl  \n",
       "394                  vw pickup  \n",
       "395              dodge rampage  \n",
       "396                ford ranger  \n",
       "397                 chevy s-10  \n",
       "\n",
       "[398 rows x 10 columns]"
      ]
     },
     "execution_count": 19,
     "metadata": {},
     "output_type": "execute_result"
    }
   ],
   "source": [
    "car_df"
   ]
  },
  {
   "cell_type": "markdown",
   "metadata": {},
   "source": [
    "arange"
   ]
  },
  {
   "cell_type": "code",
   "execution_count": 21,
   "metadata": {},
   "outputs": [
    {
     "data": {
      "text/plain": [
       "array([ 0,  1,  2,  3,  4,  5,  6,  7,  8,  9, 10, 11, 12, 13, 14, 15, 16,\n",
       "       17, 18, 19, 20, 21, 22, 23, 24, 25, 26, 27, 28, 29, 30, 31, 32, 33,\n",
       "       34, 35, 36, 37, 38, 39, 40, 41, 42, 43, 44, 45, 46, 47, 48, 49, 50,\n",
       "       51, 52, 53, 54, 55, 56, 57, 58, 59, 60, 61, 62, 63, 64, 65, 66, 67,\n",
       "       68, 69, 70, 71, 72, 73, 74, 75, 76, 77, 78, 79, 80, 81, 82, 83, 84,\n",
       "       85, 86, 87, 88, 89, 90, 91, 92, 93, 94, 95, 96, 97, 98, 99])"
      ]
     },
     "execution_count": 21,
     "metadata": {},
     "output_type": "execute_result"
    }
   ],
   "source": [
    "np.arange(0,100,1)"
   ]
  },
  {
   "cell_type": "code",
   "execution_count": 23,
   "metadata": {},
   "outputs": [
    {
     "data": {
      "text/plain": [
       "array([ 0,  1,  2,  3,  4,  5,  6,  7,  8,  9, 10, 11, 12, 13, 14, 15, 16,\n",
       "       17, 18, 19, 20, 21, 22, 23, 24, 25, 26, 27, 28, 29, 30, 31, 32, 33,\n",
       "       34, 35, 36, 37, 38, 39, 40, 41, 42, 43, 44, 45, 46, 47, 48, 49])"
      ]
     },
     "execution_count": 23,
     "metadata": {},
     "output_type": "execute_result"
    }
   ],
   "source": [
    "np.arange(50)"
   ]
  },
  {
   "cell_type": "code",
   "execution_count": 24,
   "metadata": {},
   "outputs": [
    {
     "data": {
      "text/plain": [
       "array([ 0, 10, 20, 30, 40, 50, 60, 70, 80, 90])"
      ]
     },
     "execution_count": 24,
     "metadata": {},
     "output_type": "execute_result"
    }
   ],
   "source": [
    "np.arange(start=0,stop=100,step=10)"
   ]
  },
  {
   "cell_type": "code",
   "execution_count": 25,
   "metadata": {},
   "outputs": [
    {
     "data": {
      "text/plain": [
       "array([0.2532, 0.3532, 0.4532, 0.5532, 0.6532, 0.7532, 0.8532, 0.9532])"
      ]
     },
     "execution_count": 25,
     "metadata": {},
     "output_type": "execute_result"
    }
   ],
   "source": [
    "np.arange(0.2532,0.95555,0.1)"
   ]
  },
  {
   "cell_type": "markdown",
   "metadata": {},
   "source": [
    "zeros"
   ]
  },
  {
   "cell_type": "code",
   "execution_count": 26,
   "metadata": {},
   "outputs": [
    {
     "data": {
      "text/plain": [
       "array([0., 0., 0., 0., 0., 0., 0., 0., 0., 0., 0., 0., 0., 0., 0., 0., 0.,\n",
       "       0., 0., 0., 0., 0., 0., 0., 0., 0., 0., 0., 0., 0., 0., 0., 0., 0.,\n",
       "       0., 0., 0., 0., 0., 0., 0., 0., 0., 0., 0., 0., 0., 0., 0., 0., 0.,\n",
       "       0., 0., 0., 0., 0., 0., 0., 0., 0., 0., 0., 0., 0., 0., 0., 0., 0.,\n",
       "       0., 0., 0., 0., 0., 0., 0., 0., 0., 0., 0., 0., 0., 0., 0., 0., 0.,\n",
       "       0., 0., 0., 0., 0., 0., 0., 0., 0., 0., 0., 0., 0., 0., 0.])"
      ]
     },
     "execution_count": 26,
     "metadata": {},
     "output_type": "execute_result"
    }
   ],
   "source": [
    "np.zeros(100)"
   ]
  },
  {
   "cell_type": "code",
   "execution_count": 32,
   "metadata": {},
   "outputs": [
    {
     "data": {
      "text/plain": [
       "array([[0., 0., 0., 0., 0.],\n",
       "       [0., 0., 0., 0., 0.],\n",
       "       [0., 0., 0., 0., 0.],\n",
       "       [0., 0., 0., 0., 0.],\n",
       "       [0., 0., 0., 0., 0.],\n",
       "       [0., 0., 0., 0., 0.],\n",
       "       [0., 0., 0., 0., 0.],\n",
       "       [0., 0., 0., 0., 0.],\n",
       "       [0., 0., 0., 0., 0.],\n",
       "       [0., 0., 0., 0., 0.]])"
      ]
     },
     "execution_count": 32,
     "metadata": {},
     "output_type": "execute_result"
    }
   ],
   "source": [
    "np.zeros((10,5))"
   ]
  },
  {
   "cell_type": "code",
   "execution_count": 34,
   "metadata": {},
   "outputs": [
    {
     "data": {
      "text/plain": [
       "array([[[0., 0.],\n",
       "        [0., 0.],\n",
       "        [0., 0.]],\n",
       "\n",
       "       [[0., 0.],\n",
       "        [0., 0.],\n",
       "        [0., 0.]],\n",
       "\n",
       "       [[0., 0.],\n",
       "        [0., 0.],\n",
       "        [0., 0.]],\n",
       "\n",
       "       [[0., 0.],\n",
       "        [0., 0.],\n",
       "        [0., 0.]]])"
      ]
     },
     "execution_count": 34,
     "metadata": {},
     "output_type": "execute_result"
    }
   ],
   "source": [
    "np.zeros((4,3,2))"
   ]
  },
  {
   "cell_type": "markdown",
   "metadata": {},
   "source": [
    "ones"
   ]
  },
  {
   "cell_type": "code",
   "execution_count": 35,
   "metadata": {},
   "outputs": [
    {
     "data": {
      "text/plain": [
       "array([1., 1., 1., 1., 1., 1., 1., 1., 1., 1., 1., 1., 1., 1., 1., 1., 1.,\n",
       "       1., 1., 1., 1., 1., 1., 1., 1., 1., 1., 1., 1., 1.])"
      ]
     },
     "execution_count": 35,
     "metadata": {},
     "output_type": "execute_result"
    }
   ],
   "source": [
    "np.ones(30)"
   ]
  },
  {
   "cell_type": "code",
   "execution_count": 36,
   "metadata": {},
   "outputs": [
    {
     "data": {
      "text/plain": [
       "array([[1., 1., 1., 1., 1., 1.],\n",
       "       [1., 1., 1., 1., 1., 1.],\n",
       "       [1., 1., 1., 1., 1., 1.],\n",
       "       [1., 1., 1., 1., 1., 1.],\n",
       "       [1., 1., 1., 1., 1., 1.]])"
      ]
     },
     "execution_count": 36,
     "metadata": {},
     "output_type": "execute_result"
    }
   ],
   "source": [
    "np.ones((5,6))"
   ]
  },
  {
   "cell_type": "code",
   "execution_count": 37,
   "metadata": {},
   "outputs": [
    {
     "data": {
      "text/plain": [
       "array([[[1., 1., 1., 1., 1., 1.],\n",
       "        [1., 1., 1., 1., 1., 1.],\n",
       "        [1., 1., 1., 1., 1., 1.],\n",
       "        [1., 1., 1., 1., 1., 1.],\n",
       "        [1., 1., 1., 1., 1., 1.]],\n",
       "\n",
       "       [[1., 1., 1., 1., 1., 1.],\n",
       "        [1., 1., 1., 1., 1., 1.],\n",
       "        [1., 1., 1., 1., 1., 1.],\n",
       "        [1., 1., 1., 1., 1., 1.],\n",
       "        [1., 1., 1., 1., 1., 1.]],\n",
       "\n",
       "       [[1., 1., 1., 1., 1., 1.],\n",
       "        [1., 1., 1., 1., 1., 1.],\n",
       "        [1., 1., 1., 1., 1., 1.],\n",
       "        [1., 1., 1., 1., 1., 1.],\n",
       "        [1., 1., 1., 1., 1., 1.]],\n",
       "\n",
       "       [[1., 1., 1., 1., 1., 1.],\n",
       "        [1., 1., 1., 1., 1., 1.],\n",
       "        [1., 1., 1., 1., 1., 1.],\n",
       "        [1., 1., 1., 1., 1., 1.],\n",
       "        [1., 1., 1., 1., 1., 1.]]])"
      ]
     },
     "execution_count": 37,
     "metadata": {},
     "output_type": "execute_result"
    }
   ],
   "source": [
    "np.ones((4,5,6))"
   ]
  },
  {
   "cell_type": "markdown",
   "metadata": {},
   "source": [
    "linspace"
   ]
  },
  {
   "cell_type": "code",
   "execution_count": 34,
   "metadata": {},
   "outputs": [
    {
     "data": {
      "text/plain": [
       "array([  1.        ,   3.02040816,   5.04081633,   7.06122449,\n",
       "         9.08163265,  11.10204082,  13.12244898,  15.14285714,\n",
       "        17.16326531,  19.18367347,  21.20408163,  23.2244898 ,\n",
       "        25.24489796,  27.26530612,  29.28571429,  31.30612245,\n",
       "        33.32653061,  35.34693878,  37.36734694,  39.3877551 ,\n",
       "        41.40816327,  43.42857143,  45.44897959,  47.46938776,\n",
       "        49.48979592,  51.51020408,  53.53061224,  55.55102041,\n",
       "        57.57142857,  59.59183673,  61.6122449 ,  63.63265306,\n",
       "        65.65306122,  67.67346939,  69.69387755,  71.71428571,\n",
       "        73.73469388,  75.75510204,  77.7755102 ,  79.79591837,\n",
       "        81.81632653,  83.83673469,  85.85714286,  87.87755102,\n",
       "        89.89795918,  91.91836735,  93.93877551,  95.95918367,\n",
       "        97.97959184, 100.        ])"
      ]
     },
     "execution_count": 34,
     "metadata": {},
     "output_type": "execute_result"
    }
   ],
   "source": [
    "np.linspace(start=1,stop=100,num=50,endpoint=True)"
   ]
  },
  {
   "cell_type": "markdown",
   "metadata": {},
   "source": [
    "eye"
   ]
  },
  {
   "cell_type": "code",
   "execution_count": 35,
   "metadata": {},
   "outputs": [
    {
     "data": {
      "text/plain": [
       "array([[1., 0., 0., 0., 0., 0., 0., 0.],\n",
       "       [0., 1., 0., 0., 0., 0., 0., 0.],\n",
       "       [0., 0., 1., 0., 0., 0., 0., 0.],\n",
       "       [0., 0., 0., 1., 0., 0., 0., 0.],\n",
       "       [0., 0., 0., 0., 1., 0., 0., 0.],\n",
       "       [0., 0., 0., 0., 0., 1., 0., 0.],\n",
       "       [0., 0., 0., 0., 0., 0., 1., 0.],\n",
       "       [0., 0., 0., 0., 0., 0., 0., 1.]])"
      ]
     },
     "execution_count": 35,
     "metadata": {},
     "output_type": "execute_result"
    }
   ],
   "source": [
    "np.eye(8)"
   ]
  },
  {
   "cell_type": "markdown",
   "metadata": {},
   "source": [
    "Random"
   ]
  },
  {
   "cell_type": "code",
   "execution_count": 36,
   "metadata": {},
   "outputs": [
    {
     "data": {
      "text/plain": [
       "array([0.49387991, 0.97615356, 0.60816396, 0.81869935, 0.56304443,\n",
       "       0.1368102 , 0.98191186, 0.81330311, 0.72039603, 0.60377826,\n",
       "       0.0477177 , 0.46971002, 0.57111031, 0.68525426, 0.50973732,\n",
       "       0.10441452, 0.97101866, 0.94257107, 0.68246729, 0.40623932,\n",
       "       0.56721781, 0.84597429, 0.62351478, 0.09652814, 0.913812  ,\n",
       "       0.54285479, 0.25478505, 0.4385645 , 0.895089  , 0.86891315,\n",
       "       0.43898314, 0.1215088 , 0.9942327 , 0.21433045, 0.51673529,\n",
       "       0.03469825, 0.76725425, 0.3234193 , 0.98027383, 0.47347269,\n",
       "       0.77540024, 0.92402894, 0.41283282, 0.81001664, 0.03897726,\n",
       "       0.03258184, 0.38750576, 0.16567181, 0.68202827, 0.16247534,\n",
       "       0.93171443, 0.3946704 , 0.66748321, 0.20350821, 0.49565814,\n",
       "       0.58149714, 0.02729476, 0.57734353, 0.7587991 , 0.83852862,\n",
       "       0.15899296, 0.0018148 , 0.3225569 , 0.05135548, 0.46022451,\n",
       "       0.5283773 , 0.35696421, 0.68474509, 0.12474111, 0.58480456,\n",
       "       0.12431619, 0.72285325, 0.78789399, 0.75253716, 0.68373448,\n",
       "       0.8869271 , 0.27862943, 0.44482699, 0.91324788, 0.84388187,\n",
       "       0.17154988, 0.52606439, 0.96383481, 0.14775133, 0.89440216,\n",
       "       0.23952124, 0.45475545, 0.25550791, 0.40933016, 0.86488573,\n",
       "       0.65280586, 0.58038608, 0.78568344, 0.54550829, 0.92754685,\n",
       "       0.21856376, 0.65274765, 0.9686783 , 0.36869998, 0.19092658])"
      ]
     },
     "execution_count": 36,
     "metadata": {},
     "output_type": "execute_result"
    }
   ],
   "source": [
    "np.random.rand(100)#uniform distribution between 0 and 1"
   ]
  },
  {
   "cell_type": "code",
   "execution_count": 52,
   "metadata": {},
   "outputs": [
    {
     "data": {
      "text/plain": [
       "array([-0.36163234, -0.5459453 ,  1.03449773,  0.2861094 , -0.99825789])"
      ]
     },
     "execution_count": 52,
     "metadata": {},
     "output_type": "execute_result"
    }
   ],
   "source": [
    "np.random.randn(5)#standard normal distribution"
   ]
  },
  {
   "cell_type": "code",
   "execution_count": 53,
   "metadata": {},
   "outputs": [
    {
     "data": {
      "text/plain": [
       "array([-0.90266788, -0.61697289, -0.09272348,  0.44311161,  1.73896079])"
      ]
     },
     "execution_count": 53,
     "metadata": {},
     "output_type": "execute_result"
    }
   ],
   "source": [
    "np.sort(np.random.randn(5))"
   ]
  },
  {
   "cell_type": "code",
   "execution_count": 55,
   "metadata": {},
   "outputs": [
    {
     "data": {
      "text/plain": [
       "array([1023.12056854, 1809.23466121, 1058.00897423, 1867.78314262,\n",
       "       1005.42965078, 1204.36006321, 1949.8084059 , 1035.4590372 ,\n",
       "       1057.71869389, 1505.41254857, 1227.06769841, 1063.09753014,\n",
       "       1535.45267236, 1300.04633531, 1830.39051302])"
      ]
     },
     "execution_count": 55,
     "metadata": {},
     "output_type": "execute_result"
    }
   ],
   "source": [
    "np.random.uniform(1000,2000,15)"
   ]
  },
  {
   "cell_type": "code",
   "execution_count": 50,
   "metadata": {},
   "outputs": [
    {
     "data": {
      "text/plain": [
       "array([152, 134, 113, 188, 122, 177, 115, 180, 149, 170])"
      ]
     },
     "execution_count": 50,
     "metadata": {},
     "output_type": "execute_result"
    }
   ],
   "source": [
    "np.random.randint(100,200,10)"
   ]
  },
  {
   "cell_type": "code",
   "execution_count": 109,
   "metadata": {},
   "outputs": [
    {
     "data": {
      "text/plain": [
       "1"
      ]
     },
     "execution_count": 109,
     "metadata": {},
     "output_type": "execute_result"
    }
   ],
   "source": [
    "np.random.randint(10)"
   ]
  },
  {
   "cell_type": "markdown",
   "metadata": {},
   "source": [
    "Array Methods and Attributes"
   ]
  },
  {
   "cell_type": "code",
   "execution_count": 113,
   "metadata": {},
   "outputs": [],
   "source": [
    "sample_array = np.arange(20)"
   ]
  },
  {
   "cell_type": "code",
   "execution_count": 115,
   "metadata": {},
   "outputs": [
    {
     "data": {
      "text/plain": [
       "array([ 0,  1,  2,  3,  4,  5,  6,  7,  8,  9, 10, 11, 12, 13, 14, 15, 16,\n",
       "       17, 18, 19])"
      ]
     },
     "execution_count": 115,
     "metadata": {},
     "output_type": "execute_result"
    }
   ],
   "source": [
    "sample_array"
   ]
  },
  {
   "cell_type": "code",
   "execution_count": 68,
   "metadata": {},
   "outputs": [
    {
     "data": {
      "text/plain": [
       "array([[ 0,  1,  2,  3,  4],\n",
       "       [ 5,  6,  7,  8,  9],\n",
       "       [10, 11, 12, 13, 14],\n",
       "       [15, 16, 17, 18, 19]])"
      ]
     },
     "execution_count": 68,
     "metadata": {},
     "output_type": "execute_result"
    }
   ],
   "source": [
    "sample_array.reshape(4,5)"
   ]
  },
  {
   "cell_type": "code",
   "execution_count": 117,
   "metadata": {},
   "outputs": [
    {
     "data": {
      "text/plain": [
       "array([[ 0,  1,  2,  3,  4],\n",
       "       [ 5,  6,  7,  8,  9],\n",
       "       [10, 11, 12, 13, 14],\n",
       "       [15, 16, 17, 18, 19]])"
      ]
     },
     "execution_count": 117,
     "metadata": {},
     "output_type": "execute_result"
    }
   ],
   "source": [
    "sample_array.reshape(4,5)"
   ]
  },
  {
   "cell_type": "code",
   "execution_count": 71,
   "metadata": {},
   "outputs": [
    {
     "data": {
      "text/plain": [
       "array([[ 0,  1,  2,  3,  4,  5,  6,  7,  8,  9],\n",
       "       [10, 11, 12, 13, 14, 15, 16, 17, 18, 19]])"
      ]
     },
     "execution_count": 71,
     "metadata": {},
     "output_type": "execute_result"
    }
   ],
   "source": [
    "sample_array.reshape(2,10)"
   ]
  },
  {
   "cell_type": "code",
   "execution_count": 72,
   "metadata": {},
   "outputs": [
    {
     "data": {
      "text/plain": [
       "array([[ 0,  1],\n",
       "       [ 2,  3],\n",
       "       [ 4,  5],\n",
       "       [ 6,  7],\n",
       "       [ 8,  9],\n",
       "       [10, 11],\n",
       "       [12, 13],\n",
       "       [14, 15],\n",
       "       [16, 17],\n",
       "       [18, 19]])"
      ]
     },
     "execution_count": 72,
     "metadata": {},
     "output_type": "execute_result"
    }
   ],
   "source": [
    "sample_array.reshape(10,2)"
   ]
  },
  {
   "cell_type": "code",
   "execution_count": 73,
   "metadata": {},
   "outputs": [
    {
     "data": {
      "text/plain": [
       "array([[ 0,  1,  2,  3,  4,  5,  6,  7,  8,  9, 10, 11, 12, 13, 14, 15,\n",
       "        16, 17, 18, 19]])"
      ]
     },
     "execution_count": 73,
     "metadata": {},
     "output_type": "execute_result"
    }
   ],
   "source": [
    "sample_array.reshape(1,20)"
   ]
  },
  {
   "cell_type": "code",
   "execution_count": 74,
   "metadata": {},
   "outputs": [
    {
     "data": {
      "text/plain": [
       "array([[ 0],\n",
       "       [ 1],\n",
       "       [ 2],\n",
       "       [ 3],\n",
       "       [ 4],\n",
       "       [ 5],\n",
       "       [ 6],\n",
       "       [ 7],\n",
       "       [ 8],\n",
       "       [ 9],\n",
       "       [10],\n",
       "       [11],\n",
       "       [12],\n",
       "       [13],\n",
       "       [14],\n",
       "       [15],\n",
       "       [16],\n",
       "       [17],\n",
       "       [18],\n",
       "       [19]])"
      ]
     },
     "execution_count": 74,
     "metadata": {},
     "output_type": "execute_result"
    }
   ],
   "source": [
    "sample_array.reshape(20,1)"
   ]
  },
  {
   "cell_type": "code",
   "execution_count": 118,
   "metadata": {},
   "outputs": [
    {
     "data": {
      "text/plain": [
       "array([ 0,  1,  2,  3,  4,  5,  6,  7,  8,  9, 10, 11, 12, 13, 14, 15, 16,\n",
       "       17, 18, 19, 20, 21, 22, 23, 24, 25, 26, 27, 28, 29])"
      ]
     },
     "execution_count": 118,
     "metadata": {},
     "output_type": "execute_result"
    }
   ],
   "source": [
    "sample_array1 = np.arange(30)\n",
    "sample_array1"
   ]
  },
  {
   "cell_type": "code",
   "execution_count": 119,
   "metadata": {},
   "outputs": [
    {
     "data": {
      "text/plain": [
       "array([[ 0,  1,  2,  3,  4],\n",
       "       [ 5,  6,  7,  8,  9],\n",
       "       [10, 11, 12, 13, 14],\n",
       "       [15, 16, 17, 18, 19],\n",
       "       [20, 21, 22, 23, 24],\n",
       "       [25, 26, 27, 28, 29]])"
      ]
     },
     "execution_count": 119,
     "metadata": {},
     "output_type": "execute_result"
    }
   ],
   "source": [
    "sample_array1.reshape(6,5)"
   ]
  },
  {
   "cell_type": "code",
   "execution_count": 120,
   "metadata": {},
   "outputs": [
    {
     "data": {
      "text/plain": [
       "array([[ 0,  1,  2,  3,  4,  5],\n",
       "       [ 6,  7,  8,  9, 10, 11],\n",
       "       [12, 13, 14, 15, 16, 17],\n",
       "       [18, 19, 20, 21, 22, 23],\n",
       "       [24, 25, 26, 27, 28, 29]])"
      ]
     },
     "execution_count": 120,
     "metadata": {},
     "output_type": "execute_result"
    }
   ],
   "source": [
    "sample_array1.reshape(5,6)"
   ]
  },
  {
   "cell_type": "code",
   "execution_count": 121,
   "metadata": {},
   "outputs": [
    {
     "data": {
      "text/plain": [
       "array([[ 0,  1,  2,  3,  4,  5,  6,  7,  8,  9],\n",
       "       [10, 11, 12, 13, 14, 15, 16, 17, 18, 19],\n",
       "       [20, 21, 22, 23, 24, 25, 26, 27, 28, 29]])"
      ]
     },
     "execution_count": 121,
     "metadata": {},
     "output_type": "execute_result"
    }
   ],
   "source": [
    "sample_array1.reshape(3,10)"
   ]
  },
  {
   "cell_type": "code",
   "execution_count": 122,
   "metadata": {},
   "outputs": [
    {
     "data": {
      "text/plain": [
       "array([[ 0,  1,  2],\n",
       "       [ 3,  4,  5],\n",
       "       [ 6,  7,  8],\n",
       "       [ 9, 10, 11],\n",
       "       [12, 13, 14],\n",
       "       [15, 16, 17],\n",
       "       [18, 19, 20],\n",
       "       [21, 22, 23],\n",
       "       [24, 25, 26],\n",
       "       [27, 28, 29]])"
      ]
     },
     "execution_count": 122,
     "metadata": {},
     "output_type": "execute_result"
    }
   ],
   "source": [
    "sample_array1.reshape(10,3)"
   ]
  },
  {
   "cell_type": "code",
   "execution_count": 81,
   "metadata": {},
   "outputs": [
    {
     "data": {
      "text/plain": [
       "array([[[ 0,  1],\n",
       "        [ 2,  3],\n",
       "        [ 4,  5],\n",
       "        [ 6,  7],\n",
       "        [ 8,  9]],\n",
       "\n",
       "       [[10, 11],\n",
       "        [12, 13],\n",
       "        [14, 15],\n",
       "        [16, 17],\n",
       "        [18, 19]],\n",
       "\n",
       "       [[20, 21],\n",
       "        [22, 23],\n",
       "        [24, 25],\n",
       "        [26, 27],\n",
       "        [28, 29]]])"
      ]
     },
     "execution_count": 81,
     "metadata": {},
     "output_type": "execute_result"
    }
   ],
   "source": [
    "sample_array1.reshape(3,5,2)"
   ]
  },
  {
   "cell_type": "code",
   "execution_count": 133,
   "metadata": {},
   "outputs": [
    {
     "data": {
      "text/plain": [
       "array([ 927, 1332, 1269,  229, 1610,  635, 1961,  223,  827,  944])"
      ]
     },
     "execution_count": 133,
     "metadata": {},
     "output_type": "execute_result"
    }
   ],
   "source": [
    "sample_array = np.random.randint(100,2000,10)\n",
    "sample_array"
   ]
  },
  {
   "cell_type": "code",
   "execution_count": 134,
   "metadata": {},
   "outputs": [
    {
     "data": {
      "text/plain": [
       "1961"
      ]
     },
     "execution_count": 134,
     "metadata": {},
     "output_type": "execute_result"
    }
   ],
   "source": [
    "sample_array.max()"
   ]
  },
  {
   "cell_type": "code",
   "execution_count": 135,
   "metadata": {},
   "outputs": [
    {
     "data": {
      "text/plain": [
       "223"
      ]
     },
     "execution_count": 135,
     "metadata": {},
     "output_type": "execute_result"
    }
   ],
   "source": [
    "sample_array.min()"
   ]
  },
  {
   "cell_type": "code",
   "execution_count": 136,
   "metadata": {},
   "outputs": [
    {
     "data": {
      "text/plain": [
       "995.7"
      ]
     },
     "execution_count": 136,
     "metadata": {},
     "output_type": "execute_result"
    }
   ],
   "source": [
    "sample_array.mean()"
   ]
  },
  {
   "cell_type": "code",
   "execution_count": 137,
   "metadata": {},
   "outputs": [
    {
     "data": {
      "text/plain": [
       "533.6487702599904"
      ]
     },
     "execution_count": 137,
     "metadata": {},
     "output_type": "execute_result"
    }
   ],
   "source": [
    "sample_array.std()#standard deviation"
   ]
  },
  {
   "cell_type": "code",
   "execution_count": 138,
   "metadata": {},
   "outputs": [
    {
     "data": {
      "text/plain": [
       "(10,)"
      ]
     },
     "execution_count": 138,
     "metadata": {},
     "output_type": "execute_result"
    }
   ],
   "source": [
    "sample_array.shape"
   ]
  },
  {
   "cell_type": "code",
   "execution_count": 139,
   "metadata": {},
   "outputs": [
    {
     "data": {
      "text/plain": [
       "array([[ 0.63549975,  0.91474678,  0.05741185, -0.52632401, -0.05118459],\n",
       "       [ 0.2465152 , -0.00225931,  0.05474776,  0.03714016,  1.16440411],\n",
       "       [ 0.96293905,  0.08894687, -0.67658029, -0.99633419, -0.36699471],\n",
       "       [ 1.81904841, -0.07248859, -0.96732136,  0.87359592,  1.92723795],\n",
       "       [-1.14814744,  1.10335717,  0.7640774 , -0.31500611,  0.49324677]])"
      ]
     },
     "execution_count": 139,
     "metadata": {},
     "output_type": "execute_result"
    }
   ],
   "source": [
    "sample_array = np.random.randn(5,5)\n",
    "sample_array"
   ]
  },
  {
   "cell_type": "code",
   "execution_count": 103,
   "metadata": {},
   "outputs": [
    {
     "data": {
      "text/plain": [
       "(5, 5)"
      ]
     },
     "execution_count": 103,
     "metadata": {},
     "output_type": "execute_result"
    }
   ],
   "source": [
    "sample_array.shape"
   ]
  },
  {
   "cell_type": "code",
   "execution_count": 140,
   "metadata": {},
   "outputs": [
    {
     "data": {
      "text/plain": [
       "array([[ 0.63549975,  0.91474678,  0.05741185, -0.52632401, -0.05118459],\n",
       "       [ 0.2465152 , -0.00225931,  0.05474776,  0.03714016,  1.16440411],\n",
       "       [ 0.96293905,  0.08894687, -0.67658029, -0.99633419, -0.36699471],\n",
       "       [ 1.81904841, -0.07248859, -0.96732136,  0.87359592,  1.92723795],\n",
       "       [-1.14814744,  1.10335717,  0.7640774 , -0.31500611,  0.49324677]])"
      ]
     },
     "execution_count": 140,
     "metadata": {},
     "output_type": "execute_result"
    }
   ],
   "source": [
    "#Transposing a Matrix\n",
    "sample_array"
   ]
  },
  {
   "cell_type": "code",
   "execution_count": 141,
   "metadata": {},
   "outputs": [
    {
     "data": {
      "text/plain": [
       "array([[ 0.63549975,  0.2465152 ,  0.96293905,  1.81904841, -1.14814744],\n",
       "       [ 0.91474678, -0.00225931,  0.08894687, -0.07248859,  1.10335717],\n",
       "       [ 0.05741185,  0.05474776, -0.67658029, -0.96732136,  0.7640774 ],\n",
       "       [-0.52632401,  0.03714016, -0.99633419,  0.87359592, -0.31500611],\n",
       "       [-0.05118459,  1.16440411, -0.36699471,  1.92723795,  0.49324677]])"
      ]
     },
     "execution_count": 141,
     "metadata": {},
     "output_type": "execute_result"
    }
   ],
   "source": [
    "sample_array.T"
   ]
  },
  {
   "cell_type": "code",
   "execution_count": 107,
   "metadata": {},
   "outputs": [
    {
     "data": {
      "text/plain": [
       "array([[-0.44178228, -0.60371299, -0.99373297, -1.86811271,  2.07615984],\n",
       "       [ 0.77273375,  1.50942307, -0.41415334, -0.43009968, -0.06656936],\n",
       "       [-0.83510137, -1.41125105, -1.31156777, -0.61055204, -0.268995  ]])"
      ]
     },
     "execution_count": 107,
     "metadata": {},
     "output_type": "execute_result"
    }
   ],
   "source": [
    "np.random.randn(5,3).T"
   ]
  },
  {
   "cell_type": "code",
   "execution_count": 143,
   "metadata": {},
   "outputs": [
    {
     "data": {
      "text/plain": [
       "array([10, 11, 12, 13, 14, 15, 16, 17, 18, 19, 20, 21, 22, 23, 24, 25, 26,\n",
       "       27, 28, 29, 30])"
      ]
     },
     "execution_count": 143,
     "metadata": {},
     "output_type": "execute_result"
    }
   ],
   "source": [
    "#Indexing and Selection\n",
    "simple_array = np.arange(10,31)\n",
    "simple_array"
   ]
  },
  {
   "cell_type": "code",
   "execution_count": 144,
   "metadata": {},
   "outputs": [
    {
     "data": {
      "text/plain": [
       "(21,)"
      ]
     },
     "execution_count": 144,
     "metadata": {},
     "output_type": "execute_result"
    }
   ],
   "source": [
    "simple_array.shape"
   ]
  },
  {
   "cell_type": "code",
   "execution_count": 146,
   "metadata": {},
   "outputs": [
    {
     "data": {
      "text/plain": [
       "19"
      ]
     },
     "execution_count": 146,
     "metadata": {},
     "output_type": "execute_result"
    }
   ],
   "source": [
    "#Indexing\n",
    "simple_array[9]"
   ]
  },
  {
   "cell_type": "code",
   "execution_count": 148,
   "metadata": {},
   "outputs": [
    {
     "data": {
      "text/plain": [
       "array([22, 23, 24, 25, 26])"
      ]
     },
     "execution_count": 148,
     "metadata": {},
     "output_type": "execute_result"
    }
   ],
   "source": [
    "#Range Selection\n",
    "simple_array[12:17]"
   ]
  },
  {
   "cell_type": "code",
   "execution_count": 149,
   "metadata": {},
   "outputs": [
    {
     "data": {
      "text/plain": [
       "array([13, 17, 22])"
      ]
     },
     "execution_count": 149,
     "metadata": {},
     "output_type": "execute_result"
    }
   ],
   "source": [
    "#Specific Indexing\n",
    "simple_array[[3,7,12]]"
   ]
  },
  {
   "cell_type": "code",
   "execution_count": 150,
   "metadata": {},
   "outputs": [
    {
     "data": {
      "text/plain": [
       "array([[ 0.63549975,  0.91474678,  0.05741185, -0.52632401, -0.05118459],\n",
       "       [ 0.2465152 , -0.00225931,  0.05474776,  0.03714016,  1.16440411],\n",
       "       [ 0.96293905,  0.08894687, -0.67658029, -0.99633419, -0.36699471],\n",
       "       [ 1.81904841, -0.07248859, -0.96732136,  0.87359592,  1.92723795],\n",
       "       [-1.14814744,  1.10335717,  0.7640774 , -0.31500611,  0.49324677]])"
      ]
     },
     "execution_count": 150,
     "metadata": {},
     "output_type": "execute_result"
    }
   ],
   "source": [
    "#Indexing a matrix\n",
    "sample_array"
   ]
  },
  {
   "cell_type": "code",
   "execution_count": 151,
   "metadata": {},
   "outputs": [
    {
     "data": {
      "text/plain": [
       "array([ 0.63549975,  0.91474678,  0.05741185, -0.52632401, -0.05118459])"
      ]
     },
     "execution_count": 151,
     "metadata": {},
     "output_type": "execute_result"
    }
   ],
   "source": [
    "sample_array[0]"
   ]
  },
  {
   "cell_type": "code",
   "execution_count": 152,
   "metadata": {},
   "outputs": [
    {
     "data": {
      "text/plain": [
       "array([-1.14814744,  1.10335717,  0.7640774 , -0.31500611,  0.49324677])"
      ]
     },
     "execution_count": 152,
     "metadata": {},
     "output_type": "execute_result"
    }
   ],
   "source": [
    "sample_array[4]"
   ]
  },
  {
   "cell_type": "code",
   "execution_count": 153,
   "metadata": {},
   "outputs": [
    {
     "data": {
      "text/plain": [
       "-0.6765802929862251"
      ]
     },
     "execution_count": 153,
     "metadata": {},
     "output_type": "execute_result"
    }
   ],
   "source": [
    "sample_array[2][2]"
   ]
  },
  {
   "cell_type": "code",
   "execution_count": 155,
   "metadata": {},
   "outputs": [
    {
     "data": {
      "text/plain": [
       "0.8735959221406281"
      ]
     },
     "execution_count": 155,
     "metadata": {},
     "output_type": "execute_result"
    }
   ],
   "source": [
    "sample_array[3][3]"
   ]
  },
  {
   "cell_type": "code",
   "execution_count": 156,
   "metadata": {},
   "outputs": [
    {
     "data": {
      "text/plain": [
       "-0.07248858907433361"
      ]
     },
     "execution_count": 156,
     "metadata": {},
     "output_type": "execute_result"
    }
   ],
   "source": [
    "sample_array[3][1]"
   ]
  },
  {
   "cell_type": "code",
   "execution_count": 157,
   "metadata": {},
   "outputs": [
    {
     "data": {
      "text/plain": [
       "array([[ 0.63549975,  0.91474678,  0.05741185, -0.52632401, -0.05118459],\n",
       "       [ 0.2465152 , -0.00225931,  0.05474776,  0.03714016,  1.16440411],\n",
       "       [ 0.96293905,  0.08894687, -0.67658029, -0.99633419, -0.36699471],\n",
       "       [ 1.81904841, -0.07248859, -0.96732136,  0.87359592,  1.92723795],\n",
       "       [-1.14814744,  1.10335717,  0.7640774 , -0.31500611,  0.49324677]])"
      ]
     },
     "execution_count": 157,
     "metadata": {},
     "output_type": "execute_result"
    }
   ],
   "source": [
    "sample_array"
   ]
  },
  {
   "cell_type": "code",
   "execution_count": 158,
   "metadata": {},
   "outputs": [
    {
     "data": {
      "text/plain": [
       "array([[-0.67658029, -0.99633419],\n",
       "       [-0.96732136,  0.87359592]])"
      ]
     },
     "execution_count": 158,
     "metadata": {},
     "output_type": "execute_result"
    }
   ],
   "source": [
    "#Slicing\n",
    "#-0.67658029, -0.99633419\n",
    "#-0.96732136,  0.87359592\n",
    "sample_array[2:4,2:4]"
   ]
  },
  {
   "cell_type": "code",
   "execution_count": 159,
   "metadata": {},
   "outputs": [
    {
     "data": {
      "text/plain": [
       "array([[-0.00225931,  0.05474776,  0.03714016],\n",
       "       [ 0.08894687, -0.67658029, -0.99633419]])"
      ]
     },
     "execution_count": 159,
     "metadata": {},
     "output_type": "execute_result"
    }
   ],
   "source": [
    "#-0.00225931,  0.05474776,  0.03714016\n",
    "# 0.08894687, -0.67658029, -0.99633419\n",
    "sample_array[1:3,1:4]"
   ]
  },
  {
   "cell_type": "code",
   "execution_count": 160,
   "metadata": {},
   "outputs": [
    {
     "data": {
      "text/plain": [
       "array([[ 1.81904841, -0.07248859],\n",
       "       [-1.14814744,  1.10335717]])"
      ]
     },
     "execution_count": 160,
     "metadata": {},
     "output_type": "execute_result"
    }
   ],
   "source": [
    "#1.81904841, -0.07248859\n",
    "#-1.14814744,  1.10335717\n",
    "sample_array[3:5,0:2]"
   ]
  },
  {
   "cell_type": "code",
   "execution_count": 137,
   "metadata": {},
   "outputs": [],
   "source": [
    "#Arithmetic Operations"
   ]
  },
  {
   "cell_type": "code",
   "execution_count": 161,
   "metadata": {},
   "outputs": [],
   "source": [
    "employee_salary_1d_jan = np.random.randint(10000,20000,100)\n",
    "employee_salary_1d_feb = np.random.randint(10000,20000,100)"
   ]
  },
  {
   "cell_type": "code",
   "execution_count": 163,
   "metadata": {},
   "outputs": [
    {
     "data": {
      "text/plain": [
       "array([13275, 13161, 11586, 11809, 19642, 13786, 19074, 14497, 19525,\n",
       "       15121, 11723, 12353, 17120, 12462, 10972, 13227, 16758, 16366,\n",
       "       14397, 15930, 19614, 11163, 15826, 17554, 17805, 19864, 16447,\n",
       "       16194, 18074, 19911, 14199, 13791, 15700, 16661, 13180, 15178,\n",
       "       12738, 14973, 15799, 16682, 12220, 12656, 11921, 16083, 16739,\n",
       "       17393, 13682, 10447, 17390, 10055, 17686, 12138, 10028, 16837,\n",
       "       11992, 10832, 17341, 14302, 18905, 14410, 10236, 14535, 19463,\n",
       "       17847, 17198, 17291, 18677, 14270, 12624, 17925, 13029, 12089,\n",
       "       19835, 18175, 11593, 13790, 11402, 14126, 11169, 13609, 19434,\n",
       "       18746, 11661, 17950, 17920, 11730, 11330, 18235, 19400, 15320,\n",
       "       12532, 16054, 14530, 16221, 12892, 13332, 16252, 14853, 10804,\n",
       "       19019])"
      ]
     },
     "execution_count": 163,
     "metadata": {},
     "output_type": "execute_result"
    }
   ],
   "source": [
    "employee_salary_1d_jan"
   ]
  },
  {
   "cell_type": "code",
   "execution_count": 164,
   "metadata": {},
   "outputs": [
    {
     "data": {
      "text/plain": [
       "array([15422, 16416, 15913, 14119, 10319, 13366, 14809, 11993, 19027,\n",
       "       16959, 19315, 10678, 12486, 15734, 18712, 14567, 14541, 19986,\n",
       "       18933, 17482, 10669, 11550, 12617, 14887, 10260, 17739, 11917,\n",
       "       11611, 14292, 17936, 18150, 12807, 14794, 17008, 12154, 17892,\n",
       "       14110, 14196, 13030, 12349, 13310, 10800, 11389, 11609, 11607,\n",
       "       12534, 16097, 10433, 11310, 14481, 10032, 16695, 18288, 14403,\n",
       "       16081, 12230, 10375, 13931, 17056, 10079, 11789, 16830, 18606,\n",
       "       15357, 12414, 17537, 12818, 16187, 17486, 13399, 13815, 12438,\n",
       "       13095, 16843, 11360, 13443, 16427, 10021, 13029, 12354, 17965,\n",
       "       19351, 13187, 16583, 10638, 13578, 19033, 12190, 10783, 14767,\n",
       "       15104, 15158, 11585, 12975, 13252, 11688, 18439, 14112, 12764,\n",
       "       16690])"
      ]
     },
     "execution_count": 164,
     "metadata": {},
     "output_type": "execute_result"
    }
   ],
   "source": [
    "employee_salary_1d_feb"
   ]
  },
  {
   "cell_type": "code",
   "execution_count": 165,
   "metadata": {},
   "outputs": [
    {
     "data": {
      "text/plain": [
       "array([28697, 29577, 27499, 25928, 29961, 27152, 33883, 26490, 38552,\n",
       "       32080, 31038, 23031, 29606, 28196, 29684, 27794, 31299, 36352,\n",
       "       33330, 33412, 30283, 22713, 28443, 32441, 28065, 37603, 28364,\n",
       "       27805, 32366, 37847, 32349, 26598, 30494, 33669, 25334, 33070,\n",
       "       26848, 29169, 28829, 29031, 25530, 23456, 23310, 27692, 28346,\n",
       "       29927, 29779, 20880, 28700, 24536, 27718, 28833, 28316, 31240,\n",
       "       28073, 23062, 27716, 28233, 35961, 24489, 22025, 31365, 38069,\n",
       "       33204, 29612, 34828, 31495, 30457, 30110, 31324, 26844, 24527,\n",
       "       32930, 35018, 22953, 27233, 27829, 24147, 24198, 25963, 37399,\n",
       "       38097, 24848, 34533, 28558, 25308, 30363, 30425, 30183, 30087,\n",
       "       27636, 31212, 26115, 29196, 26144, 25020, 34691, 28965, 23568,\n",
       "       35709])"
      ]
     },
     "execution_count": 165,
     "metadata": {},
     "output_type": "execute_result"
    }
   ],
   "source": [
    "employee_salary_1d_jan + employee_salary_1d_feb"
   ]
  },
  {
   "cell_type": "code",
   "execution_count": 155,
   "metadata": {},
   "outputs": [
    {
     "data": {
      "text/plain": [
       "array([145020774, 135513323, 206418432, 125488275, 193984044, 208399107,\n",
       "       237453942, 278654820, 237994407, 166597704, 323677527, 256700315,\n",
       "       315262335, 190329048, 118018516, 220313010, 333683973, 233558112,\n",
       "       362838915, 233593740, 245681584, 171933003, 277585325, 308430372,\n",
       "       211131738, 142111542, 172913373, 236673984, 236298140, 243394585,\n",
       "       253068624, 234046160, 199448275, 175887471, 252432969, 381281446,\n",
       "       377194390, 223112974, 278514636, 285817116, 308500080, 164920332,\n",
       "       238471964, 300333474, 216229923, 267099120, 214300320, 185506548,\n",
       "       302032080, 222779210, 294294979, 163440088, 150922000, 264851930,\n",
       "       222816501, 243828080, 242916528, 302174100, 125251808, 254441088,\n",
       "       167529180, 233077905, 353799695, 241014410, 238524399, 276238707,\n",
       "       354129600, 269414444, 151322976, 200013363, 293731200, 252060312,\n",
       "       186293580, 152499752, 120119460, 186799968, 266008476, 211757162,\n",
       "       214897293, 119002598, 210421622, 301753050, 240932310, 303302238,\n",
       "       157539712, 164970398, 219666720, 273938434, 203694190, 209374675,\n",
       "       231654540, 294975748, 279525522, 287656986, 226435000, 319199602,\n",
       "       207278225, 185055576, 172888947, 222616899])"
      ]
     },
     "execution_count": 155,
     "metadata": {},
     "output_type": "execute_result"
    }
   ],
   "source": [
    "employee_salary_1d_jan * employee_salary_1d_feb"
   ]
  },
  {
   "cell_type": "code",
   "execution_count": 167,
   "metadata": {},
   "outputs": [],
   "source": [
    "#Universal Array Functions for Mathematical Operations\n",
    "sample_array_sqrd = np.square(sample_array)"
   ]
  },
  {
   "cell_type": "code",
   "execution_count": 168,
   "metadata": {},
   "outputs": [
    {
     "data": {
      "text/plain": [
       "array([[4.03859932e-01, 8.36761670e-01, 3.29612015e-03, 2.77016961e-01,\n",
       "        2.61986274e-03],\n",
       "       [6.07697457e-02, 5.10446993e-06, 2.99731768e-03, 1.37939132e-03,\n",
       "        1.35583694e+00],\n",
       "       [9.27251621e-01, 7.91154537e-03, 4.57760893e-01, 9.92681817e-01,\n",
       "        1.34685118e-01],\n",
       "       [3.30893713e+00, 5.25459555e-03, 9.35710623e-01, 7.63169835e-01,\n",
       "        3.71424611e+00],\n",
       "       [1.31824254e+00, 1.21739705e+00, 5.83814277e-01, 9.92288492e-02,\n",
       "        2.43292377e-01]])"
      ]
     },
     "execution_count": 168,
     "metadata": {},
     "output_type": "execute_result"
    }
   ],
   "source": [
    "sample_array_sqrd"
   ]
  },
  {
   "cell_type": "code",
   "execution_count": 169,
   "metadata": {},
   "outputs": [
    {
     "data": {
      "text/plain": [
       "array([[ 0.63549975,  0.91474678,  0.05741185, -0.52632401, -0.05118459],\n",
       "       [ 0.2465152 , -0.00225931,  0.05474776,  0.03714016,  1.16440411],\n",
       "       [ 0.96293905,  0.08894687, -0.67658029, -0.99633419, -0.36699471],\n",
       "       [ 1.81904841, -0.07248859, -0.96732136,  0.87359592,  1.92723795],\n",
       "       [-1.14814744,  1.10335717,  0.7640774 , -0.31500611,  0.49324677]])"
      ]
     },
     "execution_count": 169,
     "metadata": {},
     "output_type": "execute_result"
    }
   ],
   "source": [
    "sample_array"
   ]
  },
  {
   "cell_type": "code",
   "execution_count": 170,
   "metadata": {},
   "outputs": [
    {
     "data": {
      "text/plain": [
       "array([[0.63549975, 0.91474678, 0.05741185, 0.52632401, 0.05118459],\n",
       "       [0.2465152 , 0.00225931, 0.05474776, 0.03714016, 1.16440411],\n",
       "       [0.96293905, 0.08894687, 0.67658029, 0.99633419, 0.36699471],\n",
       "       [1.81904841, 0.07248859, 0.96732136, 0.87359592, 1.92723795],\n",
       "       [1.14814744, 1.10335717, 0.7640774 , 0.31500611, 0.49324677]])"
      ]
     },
     "execution_count": 170,
     "metadata": {},
     "output_type": "execute_result"
    }
   ],
   "source": [
    "np.sqrt(sample_array_sqrd)"
   ]
  },
  {
   "cell_type": "code",
   "execution_count": 172,
   "metadata": {},
   "outputs": [
    {
     "data": {
      "text/plain": [
       "5.104469925372994e-06"
      ]
     },
     "execution_count": 172,
     "metadata": {},
     "output_type": "execute_result"
    }
   ],
   "source": [
    "np.min(sample_array_sqrd)"
   ]
  },
  {
   "cell_type": "code",
   "execution_count": 164,
   "metadata": {},
   "outputs": [
    {
     "data": {
      "text/plain": [
       "4.472841047432626"
      ]
     },
     "execution_count": 164,
     "metadata": {},
     "output_type": "execute_result"
    }
   ],
   "source": [
    "np.max(sample_array_sqrd)"
   ]
  },
  {
   "cell_type": "code",
   "execution_count": 165,
   "metadata": {},
   "outputs": [
    {
     "data": {
      "text/plain": [
       "array([[ 0.48628834,  0.75468154,  0.87152095,  0.93371945,  0.16782358],\n",
       "       [ 0.0073663 ,  0.90176927,  0.92021702,  0.82900391,  0.17959094],\n",
       "       [ 0.21293442,  0.00911084,  0.68096895, -0.97144533,  0.43484512],\n",
       "       [ 0.11022505,  0.0293882 ,  0.11910926, -0.53562603,  0.79586345],\n",
       "       [ 0.77014256,  0.06216584,  0.77546004,  0.10625133,  0.1676979 ]])"
      ]
     },
     "execution_count": 165,
     "metadata": {},
     "output_type": "execute_result"
    }
   ],
   "source": [
    "np.sin(sample_array_sqrd)"
   ]
  },
  {
   "cell_type": "code",
   "execution_count": 166,
   "metadata": {},
   "outputs": [
    {
     "data": {
      "text/plain": [
       "array([[ 0.87379841,  0.65609129,  0.49035826,  0.35800556,  0.98581705],\n",
       "       [ 0.99997287,  0.43221776,  0.39140852,  0.55924281,  0.98374138],\n",
       "       [ 0.97706649,  0.9999585 , -0.73231229, -0.23726349, -0.90050526],\n",
       "       [ 0.99390666,  0.99956807,  0.99288115, -0.8444553 ,  0.60547615],\n",
       "       [ 0.63787181,  0.99806583,  0.63139665,  0.99433931,  0.98583843]])"
      ]
     },
     "execution_count": 166,
     "metadata": {},
     "output_type": "execute_result"
    }
   ],
   "source": [
    "np.cos(sample_array_sqrd)"
   ]
  },
  {
   "cell_type": "code",
   "execution_count": 168,
   "metadata": {},
   "outputs": [
    {
     "data": {
      "text/plain": [
       "array([[ 0.55652234,  1.15026911,  1.77731471,  2.60811436,  0.17023806],\n",
       "       [ 0.0073665 ,  2.08637718,  2.35103984,  1.48236846,  0.1825591 ],\n",
       "       [ 0.21793237,  0.00911122, -0.92988874,  4.09437341, -0.48289016],\n",
       "       [ 0.1109008 ,  0.0294009 ,  0.11996326,  0.63428583,  1.31444226],\n",
       "       [ 1.20736259,  0.06228631,  1.22816623,  0.10685621,  0.17010688]])"
      ]
     },
     "execution_count": 168,
     "metadata": {},
     "output_type": "execute_result"
    }
   ],
   "source": [
    "np.tan(sample_array_sqrd)"
   ]
  },
  {
   "cell_type": "code",
   "execution_count": 169,
   "metadata": {},
   "outputs": [
    {
     "data": {
      "text/plain": [
       "array([[-0.6775948 , -0.15645665,  0.05665964,  0.18620179, -1.78009862],\n",
       "       [-4.9108313 ,  0.11675642,  0.15583605, -0.02293687, -1.71163336],\n",
       "       [-1.53908535, -4.69827649,  0.87234206,  1.49802379,  0.99018276],\n",
       "       [-2.20319712, -3.52701815, -2.12533718,  1.31018019, -0.08291182],\n",
       "       [-0.12889688, -2.77730461, -0.11941056, -2.24005854, -1.78085492]])"
      ]
     },
     "execution_count": 169,
     "metadata": {},
     "output_type": "execute_result"
    }
   ],
   "source": [
    "np.log(sample_array_sqrd)"
   ]
  },
  {
   "cell_type": "code",
   "execution_count": 173,
   "metadata": {},
   "outputs": [
    {
     "data": {
      "text/plain": [
       "array([[4.03859932e-01, 8.36761670e-01, 3.29612015e-03, 2.77016961e-01,\n",
       "        2.61986274e-03],\n",
       "       [6.07697457e-02, 5.10446993e-06, 2.99731768e-03, 1.37939132e-03,\n",
       "        1.35583694e+00],\n",
       "       [9.27251621e-01, 7.91154537e-03, 4.57760893e-01, 9.92681817e-01,\n",
       "        1.34685118e-01],\n",
       "       [3.30893713e+00, 5.25459555e-03, 9.35710623e-01, 7.63169835e-01,\n",
       "        3.71424611e+00],\n",
       "       [1.31824254e+00, 1.21739705e+00, 5.83814277e-01, 9.92288492e-02,\n",
       "        2.43292377e-01]])"
      ]
     },
     "execution_count": 173,
     "metadata": {},
     "output_type": "execute_result"
    }
   ],
   "source": [
    "sample_array_sqrd"
   ]
  },
  {
   "cell_type": "code",
   "execution_count": 174,
   "metadata": {},
   "outputs": [
    {
     "data": {
      "text/plain": [
       "array([[0.4 , 0.84, 0.  , 0.28, 0.  ],\n",
       "       [0.06, 0.  , 0.  , 0.  , 1.36],\n",
       "       [0.93, 0.01, 0.46, 0.99, 0.13],\n",
       "       [3.31, 0.01, 0.94, 0.76, 3.71],\n",
       "       [1.32, 1.22, 0.58, 0.1 , 0.24]])"
      ]
     },
     "execution_count": 174,
     "metadata": {},
     "output_type": "execute_result"
    }
   ],
   "source": [
    "np.round(sample_array_sqrd,2)"
   ]
  },
  {
   "cell_type": "code",
   "execution_count": 173,
   "metadata": {},
   "outputs": [
    {
     "data": {
      "text/plain": [
       "0.9609304575806025"
      ]
     },
     "execution_count": 173,
     "metadata": {},
     "output_type": "execute_result"
    }
   ],
   "source": [
    "np.mean(sample_array_sqrd)"
   ]
  },
  {
   "cell_type": "code",
   "execution_count": 174,
   "metadata": {},
   "outputs": [
    {
     "data": {
      "text/plain": [
       "1.1551923660289223"
      ]
     },
     "execution_count": 174,
     "metadata": {},
     "output_type": "execute_result"
    }
   ],
   "source": [
    "np.std(sample_array_sqrd)"
   ]
  },
  {
   "cell_type": "code",
   "execution_count": 175,
   "metadata": {},
   "outputs": [
    {
     "data": {
      "text/plain": [
       "0.8551685924630452"
      ]
     },
     "execution_count": 175,
     "metadata": {},
     "output_type": "execute_result"
    }
   ],
   "source": [
    "np.median(sample_array_sqrd)"
   ]
  },
  {
   "cell_type": "code",
   "execution_count": 175,
   "metadata": {},
   "outputs": [],
   "source": [
    "items_id_array = np.array([\"pen\",\"box\",\"tube\",\"cloth\",\"pen\",\"tube\"])"
   ]
  },
  {
   "cell_type": "code",
   "execution_count": 176,
   "metadata": {},
   "outputs": [],
   "source": [
    "car_names_array = np.array(car_df[\"car_name\"])"
   ]
  },
  {
   "cell_type": "code",
   "execution_count": 177,
   "metadata": {},
   "outputs": [
    {
     "data": {
      "text/plain": [
       "(398,)"
      ]
     },
     "execution_count": 177,
     "metadata": {},
     "output_type": "execute_result"
    }
   ],
   "source": [
    "car_names_array.shape"
   ]
  },
  {
   "cell_type": "code",
   "execution_count": 178,
   "metadata": {},
   "outputs": [],
   "source": [
    "unique_car_names_array = np.unique(car_names_array)"
   ]
  },
  {
   "cell_type": "code",
   "execution_count": 179,
   "metadata": {},
   "outputs": [
    {
     "data": {
      "text/plain": [
       "(305,)"
      ]
     },
     "execution_count": 179,
     "metadata": {},
     "output_type": "execute_result"
    }
   ],
   "source": [
    "unique_car_names_array.shape"
   ]
  },
  {
   "cell_type": "code",
   "execution_count": 180,
   "metadata": {},
   "outputs": [
    {
     "data": {
      "text/plain": [
       "array([False, False, False, False, False, False, False, False, False,\n",
       "       False, False, False, False, False, False, False, False, False,\n",
       "       False, False, False, False, False, False, False, False, False,\n",
       "       False, False, False, False, False, False, False, False, False,\n",
       "       False, False, False, False, False, False, False, False, False,\n",
       "       False, False, False, False,  True, False, False, False, False,\n",
       "       False, False, False, False, False, False, False, False, False,\n",
       "       False, False, False, False, False, False, False, False, False,\n",
       "       False, False, False, False, False, False, False, False, False,\n",
       "       False, False, False, False, False, False, False, False, False,\n",
       "       False, False, False, False, False, False, False, False, False,\n",
       "       False, False, False, False, False, False, False, False, False,\n",
       "       False, False, False, False, False, False, False, False, False,\n",
       "       False, False, False, False, False, False, False, False, False,\n",
       "       False, False, False, False, False, False, False, False, False,\n",
       "       False, False, False, False, False, False, False, False, False,\n",
       "       False, False, False, False, False, False, False, False, False,\n",
       "       False, False, False,  True, False, False, False, False, False,\n",
       "       False, False, False, False, False, False, False, False, False,\n",
       "       False, False, False, False, False, False, False, False, False,\n",
       "       False, False, False, False, False, False, False, False, False,\n",
       "       False, False, False, False, False, False, False, False, False,\n",
       "       False, False, False, False, False, False, False, False, False,\n",
       "       False, False, False, False, False, False, False, False, False,\n",
       "       False, False, False, False, False, False, False, False, False,\n",
       "       False, False, False, False, False, False, False, False, False,\n",
       "       False, False, False, False, False, False, False, False, False,\n",
       "       False, False, False, False, False, False, False, False, False,\n",
       "       False, False, False, False, False, False, False, False, False,\n",
       "       False, False, False, False, False, False, False, False, False,\n",
       "       False, False, False, False, False, False, False, False, False,\n",
       "       False, False, False, False, False, False, False, False, False,\n",
       "       False, False, False, False, False, False, False, False, False,\n",
       "       False, False, False, False, False, False, False, False])"
      ]
     },
     "execution_count": 180,
     "metadata": {},
     "output_type": "execute_result"
    }
   ],
   "source": [
    "np.in1d(unique_car_names_array,[\"chevrolet chevelle malibu\",\"ford pinto\"])"
   ]
  },
  {
   "cell_type": "markdown",
   "metadata": {},
   "source": [
    "Input and Output"
   ]
  },
  {
   "cell_type": "code",
   "execution_count": 181,
   "metadata": {},
   "outputs": [],
   "source": [
    "np.save(\"DSP1220201 - sample_array\",sample_array)"
   ]
  },
  {
   "cell_type": "code",
   "execution_count": 183,
   "metadata": {},
   "outputs": [
    {
     "data": {
      "text/plain": [
       "array([[ 0.63549975,  0.91474678,  0.05741185, -0.52632401, -0.05118459],\n",
       "       [ 0.2465152 , -0.00225931,  0.05474776,  0.03714016,  1.16440411],\n",
       "       [ 0.96293905,  0.08894687, -0.67658029, -0.99633419, -0.36699471],\n",
       "       [ 1.81904841, -0.07248859, -0.96732136,  0.87359592,  1.92723795],\n",
       "       [-1.14814744,  1.10335717,  0.7640774 , -0.31500611,  0.49324677]])"
      ]
     },
     "execution_count": 183,
     "metadata": {},
     "output_type": "execute_result"
    }
   ],
   "source": [
    "np.load(\"DSP1220201 - sample_array.npy\")"
   ]
  },
  {
   "cell_type": "code",
   "execution_count": 184,
   "metadata": {},
   "outputs": [],
   "source": [
    "np.savetxt(\"DSP1220201 - sample_array.txt\",sample_array)"
   ]
  },
  {
   "cell_type": "code",
   "execution_count": 197,
   "metadata": {},
   "outputs": [
    {
     "data": {
      "text/plain": [
       "array([[ 0.71262681, -0.92475326,  1.02873492, -1.09757247,  0.4106355 ],\n",
       "       [-0.08582751, -1.06011587, -1.08103404,  0.98859708, -0.42493601],\n",
       "       [ 0.46322486, -0.09545138,  1.54677332, -2.11490923, -1.64064816],\n",
       "       [ 0.33233939, -0.1714422 , -0.34553249, -1.92531597,  0.95939163],\n",
       "       [ 0.93758446,  0.24941121, -0.94204213, -0.32627025, -0.41048025]])"
      ]
     },
     "execution_count": 197,
     "metadata": {},
     "output_type": "execute_result"
    }
   ],
   "source": [
    "np.loadtxt(\"DSP1220201 - sample_array.txt\")"
   ]
  },
  {
   "cell_type": "code",
   "execution_count": 185,
   "metadata": {},
   "outputs": [],
   "source": [
    "np.savez(\"DSP1220201 - Zipped\",file1=sample_array,file2=sample_array_sqrd)"
   ]
  },
  {
   "cell_type": "code",
   "execution_count": 186,
   "metadata": {},
   "outputs": [],
   "source": [
    "archived_array = np.load(\"DSP1220201 - Zipped.npz\")"
   ]
  },
  {
   "cell_type": "code",
   "execution_count": 187,
   "metadata": {},
   "outputs": [
    {
     "data": {
      "text/plain": [
       "<numpy.lib.npyio.NpzFile at 0x2a09d15b6d8>"
      ]
     },
     "execution_count": 187,
     "metadata": {},
     "output_type": "execute_result"
    }
   ],
   "source": [
    "archived_array"
   ]
  },
  {
   "cell_type": "code",
   "execution_count": 188,
   "metadata": {},
   "outputs": [
    {
     "data": {
      "text/plain": [
       "array([[ 0.63549975,  0.91474678,  0.05741185, -0.52632401, -0.05118459],\n",
       "       [ 0.2465152 , -0.00225931,  0.05474776,  0.03714016,  1.16440411],\n",
       "       [ 0.96293905,  0.08894687, -0.67658029, -0.99633419, -0.36699471],\n",
       "       [ 1.81904841, -0.07248859, -0.96732136,  0.87359592,  1.92723795],\n",
       "       [-1.14814744,  1.10335717,  0.7640774 , -0.31500611,  0.49324677]])"
      ]
     },
     "execution_count": 188,
     "metadata": {},
     "output_type": "execute_result"
    }
   ],
   "source": [
    "archived_array['file1']"
   ]
  },
  {
   "cell_type": "code",
   "execution_count": 189,
   "metadata": {},
   "outputs": [
    {
     "data": {
      "text/plain": [
       "array([[4.03859932e-01, 8.36761670e-01, 3.29612015e-03, 2.77016961e-01,\n",
       "        2.61986274e-03],\n",
       "       [6.07697457e-02, 5.10446993e-06, 2.99731768e-03, 1.37939132e-03,\n",
       "        1.35583694e+00],\n",
       "       [9.27251621e-01, 7.91154537e-03, 4.57760893e-01, 9.92681817e-01,\n",
       "        1.34685118e-01],\n",
       "       [3.30893713e+00, 5.25459555e-03, 9.35710623e-01, 7.63169835e-01,\n",
       "        3.71424611e+00],\n",
       "       [1.31824254e+00, 1.21739705e+00, 5.83814277e-01, 9.92288492e-02,\n",
       "        2.43292377e-01]])"
      ]
     },
     "execution_count": 189,
     "metadata": {},
     "output_type": "execute_result"
    }
   ],
   "source": [
    "archived_array['file2']"
   ]
  },
  {
   "cell_type": "code",
   "execution_count": 192,
   "metadata": {},
   "outputs": [],
   "source": [
    "np.savetxt(\"DSP1220201 - Car Names\",car_names_array,fmt=\"%s\")"
   ]
  },
  {
   "cell_type": "code",
   "execution_count": 195,
   "metadata": {},
   "outputs": [
    {
     "data": {
      "text/plain": [
       "array(['chevrolet chevelle malibu', 'buick skylark 320',\n",
       "       'plymouth satellite', 'amc rebel sst', 'ford torino',\n",
       "       'ford galaxie 500', 'chevrolet impala', 'plymouth fury iii',\n",
       "       'pontiac catalina', 'amc ambassador dpl', 'dodge challenger se',\n",
       "       \"plymouth 'cuda 340\", 'chevrolet monte carlo',\n",
       "       'buick estate wagon (sw)', 'toyota corona mark ii',\n",
       "       'plymouth duster', 'amc hornet', 'ford maverick', 'datsun pl510',\n",
       "       'volkswagen 1131 deluxe sedan', 'peugeot 504', 'audi 100 ls',\n",
       "       'saab 99e', 'bmw 2002', 'amc gremlin', 'ford f250', 'chevy c20',\n",
       "       'dodge d200', 'hi 1200d', 'datsun pl510', 'chevrolet vega 2300',\n",
       "       'toyota corona', 'ford pinto', 'amc gremlin',\n",
       "       'plymouth satellite custom', 'chevrolet chevelle malibu',\n",
       "       'ford torino 500', 'amc matador', 'chevrolet impala',\n",
       "       'pontiac catalina brougham', 'ford galaxie 500',\n",
       "       'plymouth fury iii', 'dodge monaco (sw)',\n",
       "       'ford country squire (sw)', 'pontiac safari (sw)',\n",
       "       'amc hornet sportabout (sw)', 'chevrolet vega (sw)',\n",
       "       'pontiac firebird', 'ford mustang', 'mercury capri 2000',\n",
       "       'opel 1900', 'peugeot 304', 'fiat 124b', 'toyota corolla 1200',\n",
       "       'datsun 1200', 'volkswagen model 111', 'plymouth cricket',\n",
       "       'toyota corona hardtop', 'dodge colt hardtop', 'volkswagen type 3',\n",
       "       'chevrolet vega', 'ford pinto runabout', 'chevrolet impala',\n",
       "       'pontiac catalina', 'plymouth fury iii', 'ford galaxie 500',\n",
       "       'amc ambassador sst', 'mercury marquis', 'buick lesabre custom',\n",
       "       'oldsmobile delta 88 royale', 'chrysler newport royal',\n",
       "       'mazda rx2 coupe', 'amc matador (sw)',\n",
       "       'chevrolet chevelle concours (sw)', 'ford gran torino (sw)',\n",
       "       'plymouth satellite custom (sw)', 'volvo 145e (sw)',\n",
       "       'volkswagen 411 (sw)', 'peugeot 504 (sw)', 'renault 12 (sw)',\n",
       "       'ford pinto (sw)', 'datsun 510 (sw)',\n",
       "       'toyouta corona mark ii (sw)', 'dodge colt (sw)',\n",
       "       'toyota corolla 1600 (sw)', 'buick century 350', 'amc matador',\n",
       "       'chevrolet malibu', 'ford gran torino', 'dodge coronet custom',\n",
       "       'mercury marquis brougham', 'chevrolet caprice classic',\n",
       "       'ford ltd', 'plymouth fury gran sedan',\n",
       "       'chrysler new yorker brougham', 'buick electra 225 custom',\n",
       "       'amc ambassador brougham', 'plymouth valiant',\n",
       "       'chevrolet nova custom', 'amc hornet', 'ford maverick',\n",
       "       'plymouth duster', 'volkswagen super beetle', 'chevrolet impala',\n",
       "       'ford country', 'plymouth custom suburb',\n",
       "       'oldsmobile vista cruiser', 'amc gremlin', 'toyota carina',\n",
       "       'chevrolet vega', 'datsun 610', 'maxda rx3', 'ford pinto',\n",
       "       'mercury capri v6', 'fiat 124 sport coupe',\n",
       "       'chevrolet monte carlo s', 'pontiac grand prix', 'fiat 128',\n",
       "       'opel manta', 'audi 100ls', 'volvo 144ea', 'dodge dart custom',\n",
       "       'saab 99le', 'toyota mark ii', 'oldsmobile omega',\n",
       "       'plymouth duster', 'ford maverick', 'amc hornet', 'chevrolet nova',\n",
       "       'datsun b210', 'ford pinto', 'toyota corolla 1200',\n",
       "       'chevrolet vega', 'chevrolet chevelle malibu classic',\n",
       "       'amc matador', 'plymouth satellite sebring', 'ford gran torino',\n",
       "       'buick century luxus (sw)', 'dodge coronet custom (sw)',\n",
       "       'ford gran torino (sw)', 'amc matador (sw)', 'audi fox',\n",
       "       'volkswagen dasher', 'opel manta', 'toyota corona', 'datsun 710',\n",
       "       'dodge colt', 'fiat 128', 'fiat 124 tc', 'honda civic', 'subaru',\n",
       "       'fiat x1.9', 'plymouth valiant custom', 'chevrolet nova',\n",
       "       'mercury monarch', 'ford maverick', 'pontiac catalina',\n",
       "       'chevrolet bel air', 'plymouth grand fury', 'ford ltd',\n",
       "       'buick century', 'chevroelt chevelle malibu', 'amc matador',\n",
       "       'plymouth fury', 'buick skyhawk', 'chevrolet monza 2+2',\n",
       "       'ford mustang ii', 'toyota corolla', 'ford pinto', 'amc gremlin',\n",
       "       'pontiac astro', 'toyota corona', 'volkswagen dasher',\n",
       "       'datsun 710', 'ford pinto', 'volkswagen rabbit', 'amc pacer',\n",
       "       'audi 100ls', 'peugeot 504', 'volvo 244dl', 'saab 99le',\n",
       "       'honda civic cvcc', 'fiat 131', 'opel 1900', 'capri ii',\n",
       "       'dodge colt', 'renault 12tl', 'chevrolet chevelle malibu classic',\n",
       "       'dodge coronet brougham', 'amc matador', 'ford gran torino',\n",
       "       'plymouth valiant', 'chevrolet nova', 'ford maverick',\n",
       "       'amc hornet', 'chevrolet chevette', 'chevrolet woody', 'vw rabbit',\n",
       "       'honda civic', 'dodge aspen se', 'ford granada ghia',\n",
       "       'pontiac ventura sj', 'amc pacer d/l', 'volkswagen rabbit',\n",
       "       'datsun b-210', 'toyota corolla', 'ford pinto', 'volvo 245',\n",
       "       'plymouth volare premier v8', 'peugeot 504', 'toyota mark ii',\n",
       "       'mercedes-benz 280s', 'cadillac seville', 'chevy c10', 'ford f108',\n",
       "       'dodge d100', 'honda accord cvcc', 'buick opel isuzu deluxe',\n",
       "       'renault 5 gtl', 'plymouth arrow gs', 'datsun f-10 hatchback',\n",
       "       'chevrolet caprice classic', 'oldsmobile cutlass supreme',\n",
       "       'dodge monaco brougham', 'mercury cougar brougham',\n",
       "       'chevrolet concours', 'buick skylark', 'plymouth volare custom',\n",
       "       'ford granada', 'pontiac grand prix lj',\n",
       "       'chevrolet monte carlo landau', 'chrysler cordoba',\n",
       "       'ford thunderbird', 'volkswagen rabbit custom',\n",
       "       'pontiac sunbird coupe', 'toyota corolla liftback',\n",
       "       'ford mustang ii 2+2', 'chevrolet chevette', 'dodge colt m/m',\n",
       "       'subaru dl', 'volkswagen dasher', 'datsun 810', 'bmw 320i',\n",
       "       'mazda rx-4', 'volkswagen rabbit custom diesel', 'ford fiesta',\n",
       "       'mazda glc deluxe', 'datsun b210 gx', 'honda civic cvcc',\n",
       "       'oldsmobile cutlass salon brougham', 'dodge diplomat',\n",
       "       'mercury monarch ghia', 'pontiac phoenix lj', 'chevrolet malibu',\n",
       "       'ford fairmont (auto)', 'ford fairmont (man)', 'plymouth volare',\n",
       "       'amc concord', 'buick century special', 'mercury zephyr',\n",
       "       'dodge aspen', 'amc concord d/l', 'chevrolet monte carlo landau',\n",
       "       'buick regal sport coupe (turbo)', 'ford futura',\n",
       "       'dodge magnum xe', 'chevrolet chevette', 'toyota corona',\n",
       "       'datsun 510', 'dodge omni', 'toyota celica gt liftback',\n",
       "       'plymouth sapporo', 'oldsmobile starfire sx', 'datsun 200-sx',\n",
       "       'audi 5000', 'volvo 264gl', 'saab 99gle', 'peugeot 604sl',\n",
       "       'volkswagen scirocco', 'honda accord lx', 'pontiac lemans v6',\n",
       "       'mercury zephyr 6', 'ford fairmont 4', 'amc concord dl 6',\n",
       "       'dodge aspen 6', 'chevrolet caprice classic', 'ford ltd landau',\n",
       "       'mercury grand marquis', 'dodge st. regis',\n",
       "       'buick estate wagon (sw)', 'ford country squire (sw)',\n",
       "       'chevrolet malibu classic (sw)',\n",
       "       'chrysler lebaron town @ country (sw)', 'vw rabbit custom',\n",
       "       'maxda glc deluxe', 'dodge colt hatchback custom', 'amc spirit dl',\n",
       "       'mercedes benz 300d', 'cadillac eldorado', 'peugeot 504',\n",
       "       'oldsmobile cutlass salon brougham', 'plymouth horizon',\n",
       "       'plymouth horizon tc3', 'datsun 210', 'fiat strada custom',\n",
       "       'buick skylark limited', 'chevrolet citation',\n",
       "       'oldsmobile omega brougham', 'pontiac phoenix', 'vw rabbit',\n",
       "       'toyota corolla tercel', 'chevrolet chevette', 'datsun 310',\n",
       "       'chevrolet citation', 'ford fairmont', 'amc concord',\n",
       "       'dodge aspen', 'audi 4000', 'toyota corona liftback', 'mazda 626',\n",
       "       'datsun 510 hatchback', 'toyota corolla', 'mazda glc',\n",
       "       'dodge colt', 'datsun 210', 'vw rabbit c (diesel)',\n",
       "       'vw dasher (diesel)', 'audi 5000s (diesel)', 'mercedes-benz 240d',\n",
       "       'honda civic 1500 gl', 'renault lecar deluxe', 'subaru dl',\n",
       "       'vokswagen rabbit', 'datsun 280-zx', 'mazda rx-7 gs',\n",
       "       'triumph tr7 coupe', 'ford mustang cobra', 'honda accord',\n",
       "       'plymouth reliant', 'buick skylark', 'dodge aries wagon (sw)',\n",
       "       'chevrolet citation', 'plymouth reliant', 'toyota starlet',\n",
       "       'plymouth champ', 'honda civic 1300', 'subaru', 'datsun 210 mpg',\n",
       "       'toyota tercel', 'mazda glc 4', 'plymouth horizon 4',\n",
       "       'ford escort 4w', 'ford escort 2h', 'volkswagen jetta',\n",
       "       'renault 18i', 'honda prelude', 'toyota corolla', 'datsun 200sx',\n",
       "       'mazda 626', 'peugeot 505s turbo diesel', 'volvo diesel',\n",
       "       'toyota cressida', 'datsun 810 maxima', 'buick century',\n",
       "       'oldsmobile cutlass ls', 'ford granada gl',\n",
       "       'chrysler lebaron salon', 'chevrolet cavalier',\n",
       "       'chevrolet cavalier wagon', 'chevrolet cavalier 2-door',\n",
       "       'pontiac j2000 se hatchback', 'dodge aries se', 'pontiac phoenix',\n",
       "       'ford fairmont futura', 'amc concord dl', 'volkswagen rabbit l',\n",
       "       'mazda glc custom l', 'mazda glc custom', 'plymouth horizon miser',\n",
       "       'mercury lynx l', 'nissan stanza xe', 'honda accord',\n",
       "       'toyota corolla', 'honda civic', 'honda civic (auto)',\n",
       "       'datsun 310 gx', 'buick century limited',\n",
       "       'oldsmobile cutlass ciera (diesel)', 'chrysler lebaron medallion',\n",
       "       'ford granada l', 'toyota celica gt', 'dodge charger 2.2',\n",
       "       'chevrolet camaro', 'ford mustang gl', 'vw pickup',\n",
       "       'dodge rampage', 'ford ranger', 'chevy s-10'], dtype='<U36')"
      ]
     },
     "execution_count": 195,
     "metadata": {},
     "output_type": "execute_result"
    }
   ],
   "source": [
    "np.loadtxt(\"DSP1220201 - Car Names\",dtype='str',delimiter=\"*\")"
   ]
  }
 ],
 "metadata": {
  "kernelspec": {
   "display_name": "Python 3",
   "language": "python",
   "name": "python3"
  },
  "language_info": {
   "codemirror_mode": {
    "name": "ipython",
    "version": 3
   },
   "file_extension": ".py",
   "mimetype": "text/x-python",
   "name": "python",
   "nbconvert_exporter": "python",
   "pygments_lexer": "ipython3",
   "version": "3.6.5"
  }
 },
 "nbformat": 4,
 "nbformat_minor": 4
}
